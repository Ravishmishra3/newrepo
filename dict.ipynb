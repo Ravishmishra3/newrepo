{
 "cells": [
  {
   "cell_type": "code",
   "execution_count": 1,
   "id": "b6eeefe2-2e62-4b62-b14a-fd08b7728765",
   "metadata": {},
   "outputs": [],
   "source": [
    "s=(\"ravish mishra is a good boy\")"
   ]
  },
  {
   "cell_type": "code",
   "execution_count": 2,
   "id": "4dad1ced-672d-445f-b89e-069a3bebd87e",
   "metadata": {},
   "outputs": [
    {
     "data": {
      "text/plain": [
       "'v'"
      ]
     },
     "execution_count": 2,
     "metadata": {},
     "output_type": "execute_result"
    }
   ],
   "source": [
    "s[2]"
   ]
  },
  {
   "cell_type": "code",
   "execution_count": 3,
   "id": "7cbd4dc6-649e-4f51-a316-9cbce7ad8640",
   "metadata": {},
   "outputs": [
    {
     "data": {
      "text/plain": [
       "'yob doog a si arhsim hsivar'"
      ]
     },
     "execution_count": 3,
     "metadata": {},
     "output_type": "execute_result"
    }
   ],
   "source": [
    "s[::-1]"
   ]
  },
  {
   "cell_type": "code",
   "execution_count": 3,
   "id": "02e6f085-9ebc-4795-8e6a-324e8ce85d7c",
   "metadata": {},
   "outputs": [],
   "source": [
    "d={'key':\"ravish\",'no.':9795034914}"
   ]
  },
  {
   "cell_type": "code",
   "execution_count": 4,
   "id": "0f5c0d24-bb05-406c-9af4-3b7bc6c52dd2",
   "metadata": {},
   "outputs": [
    {
     "data": {
      "text/plain": [
       "{'key': 'ravish', 'no.': 9795034914}"
      ]
     },
     "execution_count": 4,
     "metadata": {},
     "output_type": "execute_result"
    }
   ],
   "source": [
    "d"
   ]
  },
  {
   "cell_type": "code",
   "execution_count": 10,
   "id": "a3e40925-d439-49a0-a0f1-4380f443dc41",
   "metadata": {},
   "outputs": [],
   "source": [
    "d2={'name':\"ravish\",'last':\"mishra\",'name':\"ravi\"}"
   ]
  },
  {
   "cell_type": "code",
   "execution_count": 11,
   "id": "fa13aef6-302e-4978-955e-6afe2f44a931",
   "metadata": {},
   "outputs": [
    {
     "data": {
      "text/plain": [
       "{'name': 'ravi', 'last': 'mishra'}"
      ]
     },
     "execution_count": 11,
     "metadata": {},
     "output_type": "execute_result"
    }
   ],
   "source": [
    "d2"
   ]
  },
  {
   "cell_type": "code",
   "execution_count": 13,
   "id": "36643593-17d9-47c4-bfed-4fbefc1b6795",
   "metadata": {},
   "outputs": [
    {
     "data": {
      "text/plain": [
       "'ravi'"
      ]
     },
     "execution_count": 13,
     "metadata": {},
     "output_type": "execute_result"
    }
   ],
   "source": [
    "d2['name']"
   ]
  },
  {
   "cell_type": "code",
   "execution_count": 2,
   "id": "20e14d78-4d79-480f-89f8-ef46c9367f5c",
   "metadata": {},
   "outputs": [],
   "source": [
    "d3={'number':546,'list':[5,'ravish',9,5]}"
   ]
  },
  {
   "cell_type": "code",
   "execution_count": 3,
   "id": "72784334-6d63-48be-b617-41cab8ad63d8",
   "metadata": {},
   "outputs": [
    {
     "data": {
      "text/plain": [
       "'ravish'"
      ]
     },
     "execution_count": 3,
     "metadata": {},
     "output_type": "execute_result"
    }
   ],
   "source": [
    "d3['list'][1]"
   ]
  },
  {
   "cell_type": "code",
   "execution_count": 4,
   "id": "3cd670f8-60bc-4c68-adea-907909b2df79",
   "metadata": {},
   "outputs": [],
   "source": [
    "d3['name'] =[4,6,5]"
   ]
  },
  {
   "cell_type": "code",
   "execution_count": 5,
   "id": "e1ffbdc3-c7a1-4e05-8df5-aba3e471e460",
   "metadata": {},
   "outputs": [
    {
     "data": {
      "text/plain": [
       "{'number': 546, 'list': [5, 'ravish', 9, 5], 'name': [4, 6, 5]}"
      ]
     },
     "execution_count": 5,
     "metadata": {},
     "output_type": "execute_result"
    }
   ],
   "source": [
    "d3"
   ]
  },
  {
   "cell_type": "code",
   "execution_count": 7,
   "id": "4b3519f8-0927-4f7c-9e5d-3db2271c5143",
   "metadata": {},
   "outputs": [
    {
     "data": {
      "text/plain": [
       "[4, 6, 5]"
      ]
     },
     "execution_count": 7,
     "metadata": {},
     "output_type": "execute_result"
    }
   ],
   "source": [
    "d3.pop('name')"
   ]
  },
  {
   "cell_type": "code",
   "execution_count": 8,
   "id": "598bd855-08d2-4312-b2ff-24a2f8235896",
   "metadata": {},
   "outputs": [
    {
     "data": {
      "text/plain": [
       "{'number': 546, 'list': [5, 'ravish', 9, 5]}"
      ]
     },
     "execution_count": 8,
     "metadata": {},
     "output_type": "execute_result"
    }
   ],
   "source": [
    "d3"
   ]
  },
  {
   "cell_type": "code",
   "execution_count": 9,
   "id": "d89963df-fd02-4952-8715-aafb94f1e304",
   "metadata": {},
   "outputs": [],
   "source": [
    "d3['name'] =[4,6,5]"
   ]
  },
  {
   "cell_type": "code",
   "execution_count": 10,
   "id": "e20ac6c2-3c2c-4bd4-b5d9-06f6d0d54992",
   "metadata": {},
   "outputs": [
    {
     "data": {
      "text/plain": [
       "{'number': 546, 'list': [5, 'ravish', 9, 5], 'name': [4, 6, 5]}"
      ]
     },
     "execution_count": 10,
     "metadata": {},
     "output_type": "execute_result"
    }
   ],
   "source": [
    "d3"
   ]
  },
  {
   "cell_type": "code",
   "execution_count": 16,
   "id": "b82b7ed3-54df-4024-b9fa-7fd8b08be2d6",
   "metadata": {},
   "outputs": [
    {
     "data": {
      "text/plain": [
       "dict_values([546, [5, 'ravish', 9, 5], [4, 6, 5]])"
      ]
     },
     "execution_count": 16,
     "metadata": {},
     "output_type": "execute_result"
    }
   ],
   "source": [
    "d3.values()"
   ]
  },
  {
   "cell_type": "code",
   "execution_count": 18,
   "id": "1baa44bd-374e-4a66-908c-81df0f67c70c",
   "metadata": {},
   "outputs": [
    {
     "data": {
      "text/plain": [
       "[546, [5, 'ravish', 9, 5], [4, 6, 5]]"
      ]
     },
     "execution_count": 18,
     "metadata": {},
     "output_type": "execute_result"
    }
   ],
   "source": [
    "list(d3.values())"
   ]
  },
  {
   "cell_type": "code",
   "execution_count": 19,
   "id": "b92f9500-5655-4091-b678-29755909b7c6",
   "metadata": {},
   "outputs": [
    {
     "data": {
      "text/plain": [
       "dict_keys(['number', 'list', 'name'])"
      ]
     },
     "execution_count": 19,
     "metadata": {},
     "output_type": "execute_result"
    }
   ],
   "source": [
    "d3.keys()"
   ]
  },
  {
   "cell_type": "code",
   "execution_count": 20,
   "id": "8c80090d-4bed-4e09-9802-d1946ea44ccc",
   "metadata": {},
   "outputs": [
    {
     "data": {
      "text/plain": [
       "['number', 'list', 'name']"
      ]
     },
     "execution_count": 20,
     "metadata": {},
     "output_type": "execute_result"
    }
   ],
   "source": [
    "list(d3.keys())"
   ]
  },
  {
   "cell_type": "code",
   "execution_count": 23,
   "id": "46e903e2-cb74-4731-8097-5087816188d6",
   "metadata": {},
   "outputs": [
    {
     "data": {
      "text/plain": [
       "[('number', 546), ('list', [5, 'ravish', 9, 5]), ('name', [4, 6, 5])]"
      ]
     },
     "execution_count": 23,
     "metadata": {},
     "output_type": "execute_result"
    }
   ],
   "source": [
    "list(d3.items())"
   ]
  },
  {
   "cell_type": "code",
   "execution_count": 4,
   "id": "bfb838ed-56ad-4496-a2ca-3405af5e08d9",
   "metadata": {},
   "outputs": [],
   "source": [
    "#this is set\n",
    "s4={5,8,4,4,4,6.5,'ravish',4+3j}"
   ]
  },
  {
   "cell_type": "code",
   "execution_count": 5,
   "id": "dc3651d7-11c1-4e2e-b39d-f4f39b5db642",
   "metadata": {},
   "outputs": [],
   "source": [
    "s4.add(\"mishra\")"
   ]
  },
  {
   "cell_type": "code",
   "execution_count": 6,
   "id": "1bc1c224-98bb-4c05-b2c1-659b015f4f6f",
   "metadata": {},
   "outputs": [
    {
     "data": {
      "text/plain": [
       "{(4+3j), 4, 5, 6.5, 8, 'mishra', 'ravish'}"
      ]
     },
     "execution_count": 6,
     "metadata": {},
     "output_type": "execute_result"
    }
   ],
   "source": [
    "s4"
   ]
  },
  {
   "cell_type": "code",
   "execution_count": 7,
   "id": "2848d05c-7df2-4d50-a700-ab5dfcd2bd05",
   "metadata": {},
   "outputs": [],
   "source": [
    "d2={'name':\"ravish\",'last':\"mishra\",'sub':[\"maths\",\"english\",\"hindi\"]}"
   ]
  },
  {
   "cell_type": "code",
   "execution_count": 11,
   "id": "49f6d8c3-a902-4c1e-86d7-3871b421f2aa",
   "metadata": {},
   "outputs": [],
   "source": [
    "d2.clear() #use to remove all the data from the dict"
   ]
  },
  {
   "cell_type": "code",
   "execution_count": 12,
   "id": "5ed523c9-4e48-4842-8c99-099d361b4664",
   "metadata": {},
   "outputs": [
    {
     "data": {
      "text/plain": [
       "{}"
      ]
     },
     "execution_count": 12,
     "metadata": {},
     "output_type": "execute_result"
    }
   ],
   "source": [
    "d2"
   ]
  },
  {
   "cell_type": "code",
   "execution_count": 13,
   "id": "9eb6cf20-25e2-474e-826c-33689eff3c96",
   "metadata": {},
   "outputs": [],
   "source": [
    "d2={'name':\"ravish\",'last':\"mishra\",'sub':[\"maths\",\"english\",\"hindi\"]}"
   ]
  },
  {
   "cell_type": "code",
   "execution_count": 17,
   "id": "4f7758b8-8316-4046-87b2-cdc041361241",
   "metadata": {},
   "outputs": [
    {
     "data": {
      "text/plain": [
       "{'name': 'ravish', 'last': 'mishra', 'sub': ['maths', 'english', 'hindi']}"
      ]
     },
     "execution_count": 17,
     "metadata": {},
     "output_type": "execute_result"
    }
   ],
   "source": [
    "d2.copy()"
   ]
  },
  {
   "cell_type": "code",
   "execution_count": 20,
   "id": "48499c0d-0ca2-4d2c-8f7c-e5ca8def7125",
   "metadata": {},
   "outputs": [
    {
     "data": {
      "text/plain": [
       "'mishra'"
      ]
     },
     "execution_count": 20,
     "metadata": {},
     "output_type": "execute_result"
    }
   ],
   "source": [
    "d2.get('last')"
   ]
  },
  {
   "cell_type": "code",
   "execution_count": 25,
   "id": "3361696c-5f9a-4b82-8b8d-67fc8feefd2b",
   "metadata": {},
   "outputs": [
    {
     "data": {
      "text/plain": [
       "['name', 'last', 'sub']"
      ]
     },
     "execution_count": 25,
     "metadata": {},
     "output_type": "execute_result"
    }
   ],
   "source": [
    "list(d2.keys())"
   ]
  },
  {
   "cell_type": "code",
   "execution_count": 26,
   "id": "3eafd358-e9ad-45b6-9f7c-0ba33a637749",
   "metadata": {},
   "outputs": [
    {
     "data": {
      "text/plain": [
       "('sub', ['maths', 'english', 'hindi'])"
      ]
     },
     "execution_count": 26,
     "metadata": {},
     "output_type": "execute_result"
    }
   ],
   "source": [
    "d2.popitem()"
   ]
  },
  {
   "cell_type": "code",
   "execution_count": 27,
   "id": "40b79f55-89c8-45e6-9520-0158f50dbd79",
   "metadata": {},
   "outputs": [],
   "source": [
    "# lets start the if/ else condition\n",
    "# get ready"
   ]
  },
  {
   "cell_type": "code",
   "execution_count": 32,
   "id": "c60d8df8-01cd-47aa-9e34-4dadd1961bfe",
   "metadata": {},
   "outputs": [
    {
     "name": "stdin",
     "output_type": "stream",
     "text": [
      "enter your price 120000\n"
     ]
    },
    {
     "name": "stdout",
     "output_type": "stream",
     "text": [
      "thoda price jyade hai bhai\n",
      "kitna mehenga hai be\n"
     ]
    }
   ],
   "source": [
    "m=int(input(\"enter your price\"))\n",
    "if m>=5000:\n",
    "    print(\"thoda price jyade hai bhai\")\n",
    "    if m>10000:\n",
    "        print(\"kitna mehenga hai be\")\n",
    "elif (m<5000 and m>1000):\n",
    "    print(\"ye price mere liye hai\")\n",
    "else:\n",
    "    print(\"jaldi se pack kr bhai \")"
   ]
  },
  {
   "cell_type": "code",
   "execution_count": 30,
   "id": "40914afb-429f-46a2-b19c-a98518234f8c",
   "metadata": {},
   "outputs": [
    {
     "name": "stdin",
     "output_type": "stream",
     "text": [
      "enter your price 1000\n"
     ]
    },
    {
     "name": "stdout",
     "output_type": "stream",
     "text": [
      "nhi lena mujhe \n"
     ]
    }
   ],
   "source": [
    "m=int(input(\"enter your price\"))\n",
    "if m>=5000:\n",
    "    print(\"thoda price jyade hai bhai\")\n",
    "    if m>10000:\n",
    "        print(\"kitna mehenga hai be\")\n",
    "elif (m<5000 and m>1000):\n",
    "    print(\"ye price mere liye hai\")\n",
    "else:\n",
    "    print(\"nhi lena mujhe \")"
   ]
  },
  {
   "cell_type": "code",
   "execution_count": 5,
   "id": "52b2bedf-d321-4f9a-ab00-0313966940ef",
   "metadata": {},
   "outputs": [],
   "source": [
    "l=[2,5,8,3,'ravish','mishra',5.2]"
   ]
  },
  {
   "cell_type": "code",
   "execution_count": 6,
   "id": "7c9f140f-089b-49c1-8c3a-8b012761d021",
   "metadata": {},
   "outputs": [
    {
     "data": {
      "text/plain": [
       "[2, 5, 8, 3, 'ravish', 'mishra', 5.2]"
      ]
     },
     "execution_count": 6,
     "metadata": {},
     "output_type": "execute_result"
    }
   ],
   "source": [
    "l"
   ]
  },
  {
   "cell_type": "code",
   "execution_count": 13,
   "id": "144604ac-06f6-457e-96d1-68505e84f9f9",
   "metadata": {},
   "outputs": [
    {
     "name": "stdout",
     "output_type": "stream",
     "text": [
      "[2]\n"
     ]
    }
   ],
   "source": [
    "for i in l:\n",
    "    print(l)"
   ]
  },
  {
   "cell_type": "code",
   "execution_count": 15,
   "id": "ff272f9c-141b-4b73-913a-fb7dabbe4546",
   "metadata": {},
   "outputs": [],
   "source": [
    "l=[1,2,3,4,5,6,7,8]"
   ]
  },
  {
   "cell_type": "code",
   "execution_count": 20,
   "id": "3f954bd1-3c34-473d-a9ff-1db4282ce7a8",
   "metadata": {},
   "outputs": [
    {
     "name": "stdout",
     "output_type": "stream",
     "text": [
      "2\n",
      "3\n",
      "4\n",
      "5\n",
      "6\n",
      "7\n",
      "8\n",
      "9\n"
     ]
    },
    {
     "data": {
      "text/plain": [
       "[3, 4, 5, 6, 7, 8, 9, 10]"
      ]
     },
     "execution_count": 20,
     "metadata": {},
     "output_type": "execute_result"
    }
   ],
   "source": [
    "l1=[]\n",
    "for i in l:\n",
    "    print(i+1)\n",
    "    l1.append(i+2)\n",
    "l1    "
   ]
  },
  {
   "cell_type": "code",
   "execution_count": 21,
   "id": "34163a93-2307-4860-8af7-2409379a3667",
   "metadata": {},
   "outputs": [
    {
     "data": {
      "text/plain": [
       "[3, 4, 5, 6, 7, 8, 9, 10]"
      ]
     },
     "execution_count": 21,
     "metadata": {},
     "output_type": "execute_result"
    }
   ],
   "source": [
    "l1"
   ]
  },
  {
   "cell_type": "code",
   "execution_count": 8,
   "id": "bd5575bb-1348-4ca5-b7df-1d2cc39645ad",
   "metadata": {},
   "outputs": [],
   "source": [
    "l2=['ravish','pwskills','sudh','mishra','mahadev']"
   ]
  },
  {
   "cell_type": "code",
   "execution_count": 3,
   "id": "b764b6c9-ab0a-4d36-bcc5-86fa85cd35f3",
   "metadata": {},
   "outputs": [
    {
     "name": "stdout",
     "output_type": "stream",
     "text": [
      "ravish\n",
      "pwskills\n",
      "sudh\n",
      "mishra\n",
      "mahadev\n"
     ]
    }
   ],
   "source": []
  },
  {
   "cell_type": "code",
   "execution_count": 9,
   "id": "4f86ac05-8ecd-4ca9-bea3-a649663ddbd0",
   "metadata": {},
   "outputs": [
    {
     "name": "stdout",
     "output_type": "stream",
     "text": [
      "ravish\n",
      "pwskills\n",
      "sudh\n",
      "mishra\n",
      "mahadev\n"
     ]
    },
    {
     "data": {
      "text/plain": [
       "['RAVISH', 'PWSKILLS', 'SUDH', 'MISHRA', 'MAHADEV']"
      ]
     },
     "execution_count": 9,
     "metadata": {},
     "output_type": "execute_result"
    }
   ],
   "source": [
    "l3=[]\n",
    "for i in l2:\n",
    "    print(i)\n",
    "    l3.append(i.upper())\n",
    "l3    "
   ]
  },
  {
   "cell_type": "code",
   "execution_count": 7,
   "id": "b44e698b-d541-495a-89b7-771a66e4b589",
   "metadata": {},
   "outputs": [
    {
     "data": {
      "text/plain": [
       "['MAHADEV']"
      ]
     },
     "execution_count": 7,
     "metadata": {},
     "output_type": "execute_result"
    }
   ],
   "source": [
    "l3"
   ]
  },
  {
   "cell_type": "code",
   "execution_count": null,
   "id": "3c3485dc-bda5-41bf-bead-a01e3926cc05",
   "metadata": {},
   "outputs": [],
   "source": []
  }
 ],
 "metadata": {
  "kernelspec": {
   "display_name": "Python 3 (ipykernel)",
   "language": "python",
   "name": "python3"
  },
  "language_info": {
   "codemirror_mode": {
    "name": "ipython",
    "version": 3
   },
   "file_extension": ".py",
   "mimetype": "text/x-python",
   "name": "python",
   "nbconvert_exporter": "python",
   "pygments_lexer": "ipython3",
   "version": "3.10.8"
  }
 },
 "nbformat": 4,
 "nbformat_minor": 5
}
